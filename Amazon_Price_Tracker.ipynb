{
  "nbformat": 4,
  "nbformat_minor": 0,
  "metadata": {
    "colab": {
      "provenance": [],
      "authorship_tag": "ABX9TyMyCB3SzHBr2qO7U1HVBkhx",
      "include_colab_link": true
    },
    "kernelspec": {
      "name": "python3",
      "display_name": "Python 3"
    },
    "language_info": {
      "name": "python"
    }
  },
  "cells": [
    {
      "cell_type": "markdown",
      "metadata": {
        "id": "view-in-github",
        "colab_type": "text"
      },
      "source": [
        "<a href=\"https://colab.research.google.com/github/Anbu2011/Amazon-Price-Tracker/blob/main/Amazon_Price_Tracker.ipynb\" target=\"_parent\"><img src=\"https://colab.research.google.com/assets/colab-badge.svg\" alt=\"Open In Colab\"/></a>"
      ]
    },
    {
      "cell_type": "code",
      "execution_count": 29,
      "metadata": {
        "id": "TkgStAW2DyDW"
      },
      "outputs": [],
      "source": [
        "#importing libraries\n",
        "\n",
        "from bs4 import BeautifulSoup\n",
        "import requests\n",
        "import time\n",
        "import datetime\n",
        "\n",
        "import smtplib"
      ]
    },
    {
      "cell_type": "code",
      "source": [
        "# connecting to website\n",
        "URL = \"https://www.amazon.in/DUDEME-Business-Analyst-Unisex-Programmer/dp/B09RWNYJQ9/ref=sr_1_1?crid=2R3CBCBTJ1TV8&keywords=business+analyst+tshirt&qid=1701765721&sprefix=business+analyst+tshirt%2Caps%2C310&sr=8-1\"\n",
        "\n",
        "# https://httpbin.org/get to get 'user agent'.\n",
        "headers = {\"User-Agent\": \"Mozilla/5.0 (Windows NT 10.0; Win64; x64) AppleWebKit/537.36 (KHTML, like Gecko) Chrome/119.0.0.0 Safari/537.36\"}\n",
        "\n",
        "page = requests.get(URL,headers=headers)\n",
        "\n",
        "soup1 = BeautifulSoup(page.content, \"html.parser\")\n",
        "\n",
        "soup2 = BeautifulSoup(soup1.prettify(), \"html.parser\")\n",
        "\n",
        "title = soup2.find(id = \"productTitle\").get_text()\n",
        "price = soup2.find(class_ = \"a-price-whole\").get_text()\n",
        "no_of_ratings = soup2.find(id = \"acrCustomerReviewText\").get_text()\n",
        "\n",
        "\n",
        "title = title.strip()\n",
        "price = price.strip()\n",
        "no_of_ratings = no_of_ratings.strip()\n",
        "\n",
        "print(title)\n",
        "print(price)\n",
        "print(no_of_ratings)"
      ],
      "metadata": {
        "colab": {
          "base_uri": "https://localhost:8080/"
        },
        "id": "6zEjwCIsEA7d",
        "outputId": "c4b1b338-cb7d-4486-aeff-f8823f27e7a0"
      },
      "execution_count": 32,
      "outputs": [
        {
          "output_type": "stream",
          "name": "stdout",
          "text": [
            "DUDEME Programmers Life No Hugs and Kisses Only Bugs and Fixes | Geek Unisex Hoodie | Coding Hoodie for Coders | Programmer Hoodie\n",
            "945\n",
            "29 ratings\n"
          ]
        }
      ]
    },
    {
      "cell_type": "code",
      "source": [
        "# importing date and time\n",
        "\n",
        "import datetime\n",
        "\n",
        "today = datetime.date.today()\n",
        "\n",
        "print(today)"
      ],
      "metadata": {
        "colab": {
          "base_uri": "https://localhost:8080/"
        },
        "id": "xgP3pnQHcMp9",
        "outputId": "c7756e91-f246-466e-bad8-ffa2cb998178"
      },
      "execution_count": 33,
      "outputs": [
        {
          "output_type": "stream",
          "name": "stdout",
          "text": [
            "2023-12-06\n"
          ]
        }
      ]
    },
    {
      "cell_type": "code",
      "source": [
        "import csv\n",
        "\n",
        "header = ['Title','Price in Rs','No_of_Rating','Date']\n",
        "data = [title,price,no_of_ratings,today]\n",
        "\n",
        "with open('AmazonWebScrapperDataset.csv','w', newline='', encoding='UTF8') as f:\n",
        "  writer = csv.writer(f)\n",
        "  writer.writerow(header)\n",
        "  writer.writerow(data)\n"
      ],
      "metadata": {
        "id": "lTRsYVC_Ks8X"
      },
      "execution_count": 34,
      "outputs": []
    },
    {
      "cell_type": "code",
      "source": [
        "# appending data to csv\n",
        "\n",
        "with open('AmazonWebScrapperDataset.csv','a+', newline='', encoding='UTF8') as f:\n",
        "  writer = csv.writer(f)\n",
        "  writer.writerow(data)"
      ],
      "metadata": {
        "id": "HT7VmLFQf4sB"
      },
      "execution_count": 36,
      "outputs": []
    },
    {
      "cell_type": "code",
      "source": [
        "import pandas as pd\n",
        "\n",
        "df = pd.read_csv(r'/content/AmazonWebScrapperDataset.csv')\n",
        "\n",
        "print(df)"
      ],
      "metadata": {
        "colab": {
          "base_uri": "https://localhost:8080/"
        },
        "id": "FZavyZILdJvo",
        "outputId": "845dd62a-11d2-4e0f-fa14-dca2fa18efcf"
      },
      "execution_count": 35,
      "outputs": [
        {
          "output_type": "stream",
          "name": "stdout",
          "text": [
            "                                               Title  Price in Rs  \\\n",
            "0  DUDEME Programmers Life No Hugs and Kisses Onl...          945   \n",
            "\n",
            "  No_of_Rating        Date  \n",
            "0   29 ratings  2023-12-06  \n"
          ]
        }
      ]
    },
    {
      "cell_type": "code",
      "source": [
        "# given all the above code's in one function check_price()\n",
        "\n",
        "def check_price():\n",
        "  URL = \"https://www.amazon.in/DUDEME-Business-Analyst-Unisex-Programmer/dp/B09RWNYJQ9/ref=sr_1_1?crid=2R3CBCBTJ1TV8&keywords=business+analyst+tshirt&qid=1701765721&sprefix=business+analyst+tshirt%2Caps%2C310&sr=8-1\"\n",
        "\n",
        "  headers = {\"User-Agent\": \"Mozilla/5.0 (Windows NT 10.0; Win64; x64) AppleWebKit/537.36 (KHTML, like Gecko) Chrome/119.0.0.0 Safari/537.36\"}\n",
        "\n",
        "  page = requests.get(URL,headers=headers)\n",
        "\n",
        "  soup1 = BeautifulSoup(page.content, \"html.parser\")\n",
        "\n",
        "  soup2 = BeautifulSoup(soup1.prettify(), \"html.parser\")\n",
        "\n",
        "  title = soup2.find(id = \"productTitle\").get_text()\n",
        "  price = soup2.find(class_ = \"a-price-whole\").get_text()\n",
        "  no_of_ratings = soup2.find(id = \"acrCustomerReviewText\").get_text()\n",
        "\n",
        "\n",
        "  title = title.strip()\n",
        "  price = price.strip()\n",
        "  no_of_ratings = no_of_ratings.strip()\n",
        "\n",
        "  import datetime\n",
        "  today = datetime.date.today()\n",
        "\n",
        "  import csv\n",
        "  header = ['Title','Price in Rs','No_of_Rating','Date']\n",
        "  data = [title,price,no_of_ratings,today]\n",
        "\n",
        "  with open('AmazonWebScrapperDataset.csv','a+', newline='', encoding='UTF8') as f:\n",
        "    writer = csv.writer(f)\n",
        "    writer.writerow(data)\n",
        "\n",
        "  if(price < 600):\n",
        "    send_mail()\n",
        "\n",
        "\n"
      ],
      "metadata": {
        "id": "AwT4FNUHhLyi"
      },
      "execution_count": 48,
      "outputs": []
    },
    {
      "cell_type": "code",
      "source": [
        "# this one tracks the price for 24 hours\n",
        "while(True):\n",
        "  check_price()\n",
        "  time.sleep(86400)"
      ],
      "metadata": {
        "colab": {
          "base_uri": "https://localhost:8080/",
          "height": 210
        },
        "id": "eNIpMHUVifZr",
        "outputId": "df10aeab-11d4-4980-bdfc-49737863f78f"
      },
      "execution_count": 45,
      "outputs": [
        {
          "output_type": "error",
          "ename": "KeyboardInterrupt",
          "evalue": "ignored",
          "traceback": [
            "\u001b[0;31m---------------------------------------------------------------------------\u001b[0m",
            "\u001b[0;31mKeyboardInterrupt\u001b[0m                         Traceback (most recent call last)",
            "\u001b[0;32m<ipython-input-45-835c9629c5b9>\u001b[0m in \u001b[0;36m<cell line: 1>\u001b[0;34m()\u001b[0m\n\u001b[1;32m      1\u001b[0m \u001b[0;32mwhile\u001b[0m\u001b[0;34m(\u001b[0m\u001b[0;32mTrue\u001b[0m\u001b[0;34m)\u001b[0m\u001b[0;34m:\u001b[0m\u001b[0;34m\u001b[0m\u001b[0;34m\u001b[0m\u001b[0m\n\u001b[1;32m      2\u001b[0m   \u001b[0mcheck_price\u001b[0m\u001b[0;34m(\u001b[0m\u001b[0;34m)\u001b[0m\u001b[0;34m\u001b[0m\u001b[0;34m\u001b[0m\u001b[0m\n\u001b[0;32m----> 3\u001b[0;31m   \u001b[0mtime\u001b[0m\u001b[0;34m.\u001b[0m\u001b[0msleep\u001b[0m\u001b[0;34m(\u001b[0m\u001b[0;36m86400\u001b[0m\u001b[0;34m)\u001b[0m\u001b[0;34m\u001b[0m\u001b[0;34m\u001b[0m\u001b[0m\n\u001b[0m",
            "\u001b[0;31mKeyboardInterrupt\u001b[0m: "
          ]
        }
      ]
    },
    {
      "cell_type": "code",
      "source": [
        "# importing pandas to display the table here\n",
        "\n",
        "import pandas as pd\n",
        "\n",
        "df = pd.read_csv(r'/content/AmazonWebScrapperDataset.csv')\n",
        "\n",
        "print(df)"
      ],
      "metadata": {
        "colab": {
          "base_uri": "https://localhost:8080/"
        },
        "id": "vZa7OcrzizZf",
        "outputId": "ce44f66d-e9d4-4388-b828-6c7e8edde0d1"
      },
      "execution_count": 49,
      "outputs": [
        {
          "output_type": "stream",
          "name": "stdout",
          "text": [
            "                                               Title  Price in Rs  \\\n",
            "0  DUDEME Programmers Life No Hugs and Kisses Onl...          945   \n",
            "1  DUDEME Programmers Life No Hugs and Kisses Onl...          945   \n",
            "2  DUDEME Programmers Life No Hugs and Kisses Onl...          945   \n",
            "3  DUDEME Programmers Life No Hugs and Kisses Onl...          945   \n",
            "4  DUDEME Programmers Life No Hugs and Kisses Onl...          945   \n",
            "5  DUDEME Programmers Life No Hugs and Kisses Onl...          945   \n",
            "6  DUDEME Programmers Life No Hugs and Kisses Onl...          945   \n",
            "\n",
            "  No_of_Rating        Date  \n",
            "0   29 ratings  2023-12-06  \n",
            "1   29 ratings  2023-12-06  \n",
            "2   29 ratings  2023-12-06  \n",
            "3   29 ratings  2023-12-06  \n",
            "4   29 ratings  2023-12-06  \n",
            "5   29 ratings  2023-12-06  \n",
            "6   29 ratings  2023-12-06  \n"
          ]
        }
      ]
    },
    {
      "cell_type": "code",
      "source": [
        "# this function sends the mail to yourself according to the condition given above.\n",
        "def send_mail():\n",
        "  server = smtplib.SMTP_SSL('smtp.gmail.com',465)\n",
        "  server.ehlo()\n",
        "  server.login(\"xyz@gmail.com\",\"your password\")\n",
        "\n",
        "  subject = \"The Programmer Hoodie you want is below 600\"\n",
        "  body = \"Hello xyz. This is the moment we have been waiting for. Now is your chance to pick up the Programmer Hoodie of your dreams.\"\n",
        "  msg = f\"Subject: {subject}\\n\\n{body}\"\n",
        "\n",
        "  sender_email = \"xyz@gmail.com\"\n",
        "  recipient_email = \"recipient@example.com\"\n",
        "\n",
        "  server.sendmail(sender_email,recipient_email,msg)"
      ],
      "metadata": {
        "id": "gsZJM85AyQi6"
      },
      "execution_count": 50,
      "outputs": []
    }
  ]
}